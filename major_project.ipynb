{
 "cells": [
  {
   "cell_type": "code",
   "execution_count": 1,
   "metadata": {},
   "outputs": [],
   "source": [
    "import scipy\n",
    "from matplotlib import pyplot as plt\n",
    "import scipy\n",
    "from matplotlib import pyplot as plt\n",
    "import numpy as np\n",
    "from scipy.misc import imresize\n",
    "import os\n",
    "from scipy.misc import imread\n"
   ]
  },
  {
   "cell_type": "code",
   "execution_count": 2,
   "metadata": {},
   "outputs": [],
   "source": [
    "def rgb2gray(rgb):\n",
    "    return np.dot(rgb[...,:3], [0.299, 0.587, 0.114])"
   ]
  },
  {
   "cell_type": "code",
   "execution_count": 3,
   "metadata": {},
   "outputs": [],
   "source": [
    "def safe(img):\n",
    "    all_dim=img.shape\n",
    "    if all_dim[0]>=25 and all_dim[1]>=25:\n",
    "        return True\n",
    "    else:\n",
    "        return False"
   ]
  },
  {
   "cell_type": "code",
   "execution_count": 4,
   "metadata": {},
   "outputs": [
    {
     "name": "stderr",
     "output_type": "stream",
     "text": [
      "c:\\users\\akash\\appdata\\local\\programs\\python\\python36\\lib\\site-packages\\ipykernel_launcher.py:15: DeprecationWarning: `imresize` is deprecated!\n",
      "`imresize` is deprecated in SciPy 1.0.0, and will be removed in 1.2.0.\n",
      "Use ``skimage.transform.resize`` instead.\n",
      "  from ipykernel import kernelapp as app\n"
     ]
    }
   ],
   "source": [
    "path1=r\"C:\\Users\\akash\\Downloads\\Compressed\\GTSRB_Final_Training_Images\\GTSRB\\Final_Training\\Images\"\n",
    "imgs =[]\n",
    "labels =[]\n",
    "i=-1\n",
    "for file1 in os.listdir(path1):\n",
    "    path=os.path.join(path1, file1)\n",
    "    i=i+1\n",
    "    for file in os.listdir(path):\n",
    "        if '.csv' in file :\n",
    "            continue\n",
    "        img = plt.imread(os.path.join(path,file))\n",
    "        img=rgb2gray(img)\n",
    "        if safe(img)==False:\n",
    "            continue\n",
    "        img = imresize(img,(25,25))\n",
    "        imgs.append(img)\n",
    "        labels.append(i)\n",
    "imgs = np.array(imgs)\n",
    "label = np.array(labels)\n"
   ]
  },
  {
   "cell_type": "code",
   "execution_count": 5,
   "metadata": {},
   "outputs": [],
   "source": [
    "labels=np.array(labels)"
   ]
  },
  {
   "cell_type": "code",
   "execution_count": 6,
   "metadata": {},
   "outputs": [
    {
     "name": "stdout",
     "output_type": "stream",
     "text": [
      "(39209,)\n"
     ]
    }
   ],
   "source": [
    "print(labels.shape)"
   ]
  },
  {
   "cell_type": "code",
   "execution_count": 7,
   "metadata": {},
   "outputs": [],
   "source": [
    "train_features=imgs\n",
    "train_labels=labels"
   ]
  },
  {
   "cell_type": "code",
   "execution_count": 8,
   "metadata": {},
   "outputs": [],
   "source": [
    "### rxtract labels for testing data----------------\n",
    "def extract_labe_from_test_csv():\n",
    "    test_labels=[]\n",
    "    filename=r\"C:\\Users\\akash\\Downloads\\Compressed\\GTSRB_Final_Test_GT\\GT-final_test.csv\"\n",
    "    i=0\n",
    "    with open(filename, \"rt\") as f:\n",
    "        for line in f:\n",
    "            if(i==0):\n",
    "                i=1\n",
    "                continue\n",
    "            x = line.split(';')[7]\n",
    "            x=int(x)\n",
    "            test_labels.append(x)\n",
    "    return test_labels\n",
    "        "
   ]
  },
  {
   "cell_type": "code",
   "execution_count": 9,
   "metadata": {},
   "outputs": [],
   "source": [
    "test_labels=extract_labe_from_test_csv()"
   ]
  },
  {
   "cell_type": "code",
   "execution_count": 10,
   "metadata": {},
   "outputs": [],
   "source": [
    "test_labels=np.array(test_labels)"
   ]
  },
  {
   "cell_type": "code",
   "execution_count": 11,
   "metadata": {},
   "outputs": [
    {
     "name": "stdout",
     "output_type": "stream",
     "text": [
      "(12630,)\n"
     ]
    }
   ],
   "source": [
    "print(test_labels.shape)"
   ]
  },
  {
   "cell_type": "code",
   "execution_count": 12,
   "metadata": {},
   "outputs": [
    {
     "name": "stderr",
     "output_type": "stream",
     "text": [
      "c:\\users\\akash\\appdata\\local\\programs\\python\\python36\\lib\\site-packages\\ipykernel_launcher.py:11: DeprecationWarning: `imresize` is deprecated!\n",
      "`imresize` is deprecated in SciPy 1.0.0, and will be removed in 1.2.0.\n",
      "Use ``skimage.transform.resize`` instead.\n",
      "  # This is added back by InteractiveShellApp.init_path()\n"
     ]
    }
   ],
   "source": [
    "### read test images for testing features--------------\n",
    "path1=r\"C:\\Users\\akash\\Downloads\\Compressed\\GTSRB_Final_Test_Images\\GTSRB\\Final_Test\\Images\"\n",
    "imgs =[]\n",
    "labels =[]\n",
    "for file1 in os.listdir(path1):\n",
    "    path=os.path.join(path1, file1)\n",
    "    img = plt.imread(path)\n",
    "    img=rgb2gray(img)\n",
    "    if safe(img)==False:\n",
    "            continue\n",
    "    img = imresize(img,(25,25))\n",
    "    imgs.append(img)\n",
    "imgs = np.array(imgs)"
   ]
  },
  {
   "cell_type": "code",
   "execution_count": 13,
   "metadata": {},
   "outputs": [],
   "source": [
    "test_features=imgs"
   ]
  },
  {
   "cell_type": "code",
   "execution_count": 14,
   "metadata": {},
   "outputs": [
    {
     "name": "stdout",
     "output_type": "stream",
     "text": [
      "[[[236 235 236 ... 213 211 202]\n",
      "  [239 238 237 ... 242 243 241]\n",
      "  [240 237 235 ... 246 245 243]\n",
      "  ...\n",
      "  [232 230 228 ... 234 233 236]\n",
      "  [231 228 228 ... 231 231 234]\n",
      "  [227 227 230 ... 229 232 234]]\n",
      "\n",
      " [[ 40  53  59 ...  35  37  41]\n",
      "  [ 41  56  56 ...  31  43  44]\n",
      "  [ 39  53  55 ...  32  36  40]\n",
      "  ...\n",
      "  [ 22  41  44 ...  32  42  43]\n",
      "  [ 22  39  43 ...  26  34  38]\n",
      "  [ 21  39  43 ...  26  34  40]]\n",
      "\n",
      " [[ 28  27  26 ...  30  30  31]\n",
      "  [ 34  34  34 ...  28  29  29]\n",
      "  [ 42  42  42 ...  36  36  36]\n",
      "  ...\n",
      "  [  6   7  10 ...   3   4   5]\n",
      "  [ 10  14  19 ...  10  13  19]\n",
      "  [ 13  16  33 ...  19  24  28]]\n",
      "\n",
      " ...\n",
      "\n",
      " [[ 45  41  42 ...  49  49  50]\n",
      "  [ 45  43  42 ...  49  50  52]\n",
      "  [ 43  40  38 ...  46  47  46]\n",
      "  ...\n",
      "  [  8   5   7 ...  18  29  25]\n",
      "  [  6   3   4 ...  20  28  27]\n",
      "  [  4   3   2 ...  23  26  26]]\n",
      "\n",
      " [[169 166 121 ... 124  48   9]\n",
      "  [217 209 169 ...  97  49  12]\n",
      "  [231 241 230 ... 128  80  23]\n",
      "  ...\n",
      "  [ 44  37  37 ...  84 101  74]\n",
      "  [ 24  20  18 ...  67  89  77]\n",
      "  [ 17  15  13 ...  76  91  80]]\n",
      "\n",
      " [[ 11   8   3 ...  23  22  22]\n",
      "  [ 11   4   7 ...  21  22  22]\n",
      "  [  6   4   9 ...  20  21  20]\n",
      "  ...\n",
      "  [  9  10  13 ...  10  11  13]\n",
      "  [ 10  11  13 ...   9   6  13]\n",
      "  [ 10   8  11 ...   8   8  13]]]\n"
     ]
    }
   ],
   "source": [
    "print(test_features)"
   ]
  },
  {
   "cell_type": "code",
   "execution_count": 15,
   "metadata": {},
   "outputs": [
    {
     "data": {
      "text/plain": [
       "(12630, 25, 25)"
      ]
     },
     "execution_count": 15,
     "metadata": {},
     "output_type": "execute_result"
    }
   ],
   "source": [
    "test_features.shape"
   ]
  },
  {
   "cell_type": "code",
   "execution_count": 16,
   "metadata": {},
   "outputs": [
    {
     "name": "stdout",
     "output_type": "stream",
     "text": [
      "(39209, 25, 25)\n",
      "(39209,)\n"
     ]
    }
   ],
   "source": [
    "print(train_features.shape)\n",
    "print(train_labels.shape)"
   ]
  },
  {
   "cell_type": "code",
   "execution_count": 17,
   "metadata": {},
   "outputs": [
    {
     "data": {
      "text/plain": [
       "array([ 0,  0,  0, ..., 42, 42, 42])"
      ]
     },
     "execution_count": 17,
     "metadata": {},
     "output_type": "execute_result"
    }
   ],
   "source": [
    "train_labels\n"
   ]
  },
  {
   "cell_type": "code",
   "execution_count": 18,
   "metadata": {},
   "outputs": [],
   "source": [
    "import numpy as np\n",
    "###flat train and test dataset-----------\n",
    "train=[]\n",
    "test=[]\n",
    "for i in train_features:\n",
    "    train.append(i.flatten())\n",
    "for i in test_features:\n",
    "    test.append(i.flatten())\n",
    "train=np.array(train)\n",
    "test=np.array(test)"
   ]
  },
  {
   "cell_type": "code",
   "execution_count": 19,
   "metadata": {},
   "outputs": [],
   "source": [
    "train_features=train\n",
    "test_features=test"
   ]
  },
  {
   "cell_type": "code",
   "execution_count": 20,
   "metadata": {},
   "outputs": [
    {
     "name": "stdout",
     "output_type": "stream",
     "text": [
      "(39209, 625)\n",
      "(12630, 625)\n",
      "(39209,)\n",
      "(12630,)\n"
     ]
    }
   ],
   "source": [
    "print(train_features.shape)\n",
    "print(test_features.shape)\n",
    "print(train_labels.shape)\n",
    "print(test_labels.shape)"
   ]
  },
  {
   "cell_type": "code",
   "execution_count": 2,
   "metadata": {},
   "outputs": [],
   "source": [
    "from six.moves import cPickle\n",
    "###  http://deeplearning.net/software/theano/tutorial/loading_and_saving.html"
   ]
  },
  {
   "cell_type": "code",
   "execution_count": 22,
   "metadata": {},
   "outputs": [],
   "source": [
    "### store tain_features in \n",
    "f = open('train_feature', 'wb')\n",
    "cPickle.dump(train_features, f, protocol=cPickle.HIGHEST_PROTOCOL)\n",
    "f.close()"
   ]
  },
  {
   "cell_type": "code",
   "execution_count": 23,
   "metadata": {},
   "outputs": [],
   "source": [
    "### store tain_labels in \n",
    "f = open('train_label', 'wb')\n",
    "cPickle.dump(train_labels, f, protocol=cPickle.HIGHEST_PROTOCOL)\n",
    "f.close()"
   ]
  },
  {
   "cell_type": "code",
   "execution_count": 24,
   "metadata": {},
   "outputs": [],
   "source": [
    "### store test_features in \n",
    "f = open('test_feature', 'wb')\n",
    "cPickle.dump(test_features, f, protocol=cPickle.HIGHEST_PROTOCOL)\n",
    "f.close()"
   ]
  },
  {
   "cell_type": "code",
   "execution_count": 25,
   "metadata": {},
   "outputs": [],
   "source": [
    "### store tain_labels in \n",
    "f = open('test_label', 'wb')\n",
    "cPickle.dump(test_labels, f, protocol=cPickle.HIGHEST_PROTOCOL)\n",
    "f.close()"
   ]
  },
  {
   "cell_type": "code",
   "execution_count": 3,
   "metadata": {},
   "outputs": [],
   "source": [
    "f = open('train_feature', 'rb')\n",
    "train_features= cPickle.load(f)\n",
    "f.close()"
   ]
  },
  {
   "cell_type": "code",
   "execution_count": 4,
   "metadata": {},
   "outputs": [],
   "source": [
    "f = open('test_feature', 'rb')\n",
    "test_features= cPickle.load(f)\n",
    "f.close()"
   ]
  },
  {
   "cell_type": "code",
   "execution_count": 5,
   "metadata": {},
   "outputs": [],
   "source": [
    "f = open('train_label', 'rb')\n",
    "train_labels= cPickle.load(f)\n",
    "f.close()"
   ]
  },
  {
   "cell_type": "code",
   "execution_count": 6,
   "metadata": {},
   "outputs": [],
   "source": [
    "f = open('test_label', 'rb')\n",
    "test_labels= cPickle.load(f)\n",
    "f.close()\n"
   ]
  },
  {
   "cell_type": "code",
   "execution_count": 7,
   "metadata": {},
   "outputs": [
    {
     "name": "stderr",
     "output_type": "stream",
     "text": [
      "c:\\users\\akash\\appdata\\local\\programs\\python\\python36\\lib\\site-packages\\h5py\\__init__.py:36: FutureWarning: Conversion of the second argument of issubdtype from `float` to `np.floating` is deprecated. In future, it will be treated as `np.float64 == np.dtype(float).type`.\n",
      "  from ._conv import register_converters as _register_converters\n",
      "Using TensorFlow backend.\n"
     ]
    }
   ],
   "source": [
    "from numpy import array\n",
    "from numpy import argmax\n",
    "import scipy\n",
    "from matplotlib import pyplot as plt\n",
    "from scipy.misc import imread\n",
    "import numpy as np\n",
    "from scipy.misc import imresize\n",
    "import os\n",
    "from keras.utils.np_utils import to_categorical\n",
    "train_labels = array(train_labels)\n",
    "test_labels=array(test_labels)\n",
    "encoded_train_labels = to_categorical(train_labels)\n",
    "encoded_test_labels = to_categorical(test_labels)"
   ]
  },
  {
   "cell_type": "code",
   "execution_count": 30,
   "metadata": {},
   "outputs": [
    {
     "name": "stdout",
     "output_type": "stream",
     "text": [
      "[[1. 0. 0. ... 0. 0. 0.]\n",
      " [1. 0. 0. ... 0. 0. 0.]\n",
      " [1. 0. 0. ... 0. 0. 0.]\n",
      " ...\n",
      " [0. 0. 0. ... 0. 0. 1.]\n",
      " [0. 0. 0. ... 0. 0. 1.]\n",
      " [0. 0. 0. ... 0. 0. 1.]]\n",
      "[[0. 0. 0. ... 0. 0. 0.]\n",
      " [0. 1. 0. ... 0. 0. 0.]\n",
      " [0. 0. 0. ... 0. 0. 0.]\n",
      " ...\n",
      " [0. 0. 0. ... 0. 0. 0.]\n",
      " [0. 0. 0. ... 0. 0. 0.]\n",
      " [0. 0. 0. ... 0. 0. 0.]]\n"
     ]
    }
   ],
   "source": [
    "print(encoded_train_labels)\n",
    "print(encoded_test_labels)"
   ]
  },
  {
   "cell_type": "code",
   "execution_count": 31,
   "metadata": {},
   "outputs": [
    {
     "data": {
      "text/plain": [
       "(12630, 43)"
      ]
     },
     "execution_count": 31,
     "metadata": {},
     "output_type": "execute_result"
    }
   ],
   "source": [
    "encoded_test_labels.shape"
   ]
  },
  {
   "cell_type": "code",
   "execution_count": 32,
   "metadata": {},
   "outputs": [
    {
     "data": {
      "text/plain": [
       "(39209, 43)"
      ]
     },
     "execution_count": 32,
     "metadata": {},
     "output_type": "execute_result"
    }
   ],
   "source": [
    "encoded_train_labels.shape"
   ]
  },
  {
   "cell_type": "code",
   "execution_count": 8,
   "metadata": {},
   "outputs": [
    {
     "name": "stdout",
     "output_type": "stream",
     "text": [
      "(51839, 625)\n"
     ]
    }
   ],
   "source": [
    "### combine train and test features\n",
    "total_features = np.concatenate((train_features,test_features) , axis=0)\n",
    "print(total_features.shape)"
   ]
  },
  {
   "cell_type": "code",
   "execution_count": 9,
   "metadata": {},
   "outputs": [
    {
     "name": "stdout",
     "output_type": "stream",
     "text": [
      "(51839, 43)\n"
     ]
    }
   ],
   "source": [
    "### combine train and test labels\n",
    "total_features = np.concatenate((train_features,test_features) , axis=0)\n",
    "total_labels = np.concatenate((encoded_train_labels,encoded_test_labels) , axis=0)\n",
    "print(total_labels.shape)"
   ]
  },
  {
   "cell_type": "code",
   "execution_count": 10,
   "metadata": {},
   "outputs": [
    {
     "name": "stderr",
     "output_type": "stream",
     "text": [
      "c:\\users\\akash\\appdata\\local\\programs\\python\\python36\\lib\\site-packages\\sklearn\\cross_validation.py:41: DeprecationWarning: This module was deprecated in version 0.18 in favor of the model_selection module into which all the refactored classes and functions are moved. Also note that the interface of the new CV iterators are different from that of this module. This module will be removed in 0.20.\n",
      "  \"This module will be removed in 0.20.\", DeprecationWarning)\n"
     ]
    }
   ],
   "source": [
    "from sklearn.cross_validation import train_test_split\n",
    "images_train , images_test , labels_train , labels_test = train_test_split(total_features,total_labels,test_size = 0.2, random_state=10)"
   ]
  },
  {
   "cell_type": "code",
   "execution_count": 11,
   "metadata": {},
   "outputs": [],
   "source": [
    "import keras\n",
    "from keras.models import Sequential\n",
    "from keras.layers import Dense, Dropout, Activation, Flatten\n",
    "from keras.layers import Convolution2D, MaxPooling2D\n",
    "from keras.utils import np_utils\n",
    "from keras.optimizers import Adagrad\n",
    "from keras.layers.normalization import BatchNormalization\n"
   ]
  },
  {
   "cell_type": "code",
   "execution_count": 12,
   "metadata": {},
   "outputs": [],
   "source": [
    "images_train = images_train.reshape(images_train.shape[0], 25, 25, 1)\n",
    "images_test = images_test.reshape(images_test.shape[0], 25, 25 ,1)"
   ]
  },
  {
   "cell_type": "code",
   "execution_count": 13,
   "metadata": {},
   "outputs": [],
   "source": [
    "images_train = images_train.astype('float32')\n",
    "images_test = images_test.astype('float32')\n",
    "labels_train = labels_train.astype('float32')\n",
    "labels_test = labels_test.astype('float32')\n"
   ]
  },
  {
   "cell_type": "code",
   "execution_count": 39,
   "metadata": {},
   "outputs": [
    {
     "name": "stderr",
     "output_type": "stream",
     "text": [
      "c:\\users\\akash\\appdata\\local\\programs\\python\\python36\\lib\\site-packages\\ipykernel_launcher.py:3: UserWarning: Update your `Conv2D` call to the Keras 2 API: `Conv2D(32, (3, 3), input_shape=(25, 25, 1..., kernel_initializer=\"uniform\")`\n",
      "  This is separate from the ipykernel package so we can avoid doing imports until\n",
      "c:\\users\\akash\\appdata\\local\\programs\\python\\python36\\lib\\site-packages\\ipykernel_launcher.py:6: UserWarning: Update your `Conv2D` call to the Keras 2 API: `Conv2D(16, (3, 3), activation=\"relu\")`\n",
      "  \n",
      "c:\\users\\akash\\appdata\\local\\programs\\python\\python36\\lib\\site-packages\\ipykernel_launcher.py:13: UserWarning: Update your `Dense` call to the Keras 2 API: `Dense(500, kernel_initializer=\"uniform\")`\n",
      "  del sys.path[0]\n",
      "c:\\users\\akash\\appdata\\local\\programs\\python\\python36\\lib\\site-packages\\ipykernel_launcher.py:17: UserWarning: Update your `Dense` call to the Keras 2 API: `Dense(250, kernel_initializer=\"uniform\")`\n",
      "c:\\users\\akash\\appdata\\local\\programs\\python\\python36\\lib\\site-packages\\ipykernel_launcher.py:21: UserWarning: Update your `Dense` call to the Keras 2 API: `Dense(100, kernel_initializer=\"uniform\")`\n"
     ]
    }
   ],
   "source": [
    "model = Sequential()\n",
    " \n",
    "model.add(Convolution2D(32, 3, 3, init = 'uniform', input_shape=(25,25,1)))\n",
    "model.add(BatchNormalization())\n",
    "model.add(Activation('relu'))\n",
    "model.add(Convolution2D(16, 3, 3, activation='relu'))\n",
    "model.add(MaxPooling2D(pool_size=(2,2)))\n",
    "model.add(Dropout(0.25))\n",
    " \n",
    "\n",
    "model.add(Flatten())\n",
    "\n",
    "model.add(Dense(500, init='uniform'))\n",
    "model.add(BatchNormalization())\n",
    "model.add(Activation('relu'))\n",
    "\n",
    "model.add(Dense(250, init='uniform'))\n",
    "model.add(BatchNormalization())\n",
    "model.add(Activation('relu'))\n",
    "\n",
    "model.add(Dense(100, init='uniform'))\n",
    "model.add(BatchNormalization())\n",
    "model.add(Activation('relu'))\n",
    "\n",
    "\n",
    "model.add(Dense(43, activation='sigmoid'))\n",
    "\n",
    "\n",
    "learning_rate=0.001\n",
    "# Compile model\n",
    "momentum = 0.8\n",
    "epochs = 50\n",
    "#keras.optimizers\n",
    "decay_rate = learning_rate / epochs\n",
    "sgd = Adagrad(lr=learning_rate,  decay=decay_rate)\n",
    "model.compile(loss='mean_squared_error', optimizer=sgd, metrics=['accuracy'])\n",
    " \n",
    "\n"
   ]
  },
  {
   "cell_type": "code",
   "execution_count": 40,
   "metadata": {},
   "outputs": [
    {
     "name": "stderr",
     "output_type": "stream",
     "text": [
      "c:\\users\\akash\\appdata\\local\\programs\\python\\python36\\lib\\site-packages\\keras\\models.py:981: UserWarning: The `nb_epoch` argument in `fit` has been renamed `epochs`.\n",
      "  warnings.warn('The `nb_epoch` argument in `fit` '\n"
     ]
    },
    {
     "name": "stdout",
     "output_type": "stream",
     "text": [
      "WARNING:tensorflow:Variable *= will be deprecated. Use variable.assign_mul if you want assignment to the variable value or 'x = x * y' if you want a new python Tensor object.\n",
      "Train on 37323 samples, validate on 4148 samples\n",
      "Epoch 1/150\n",
      " - 180s - loss: 0.0589 - acc: 0.1776 - val_loss: 0.0293 - val_acc: 0.3079\n",
      "Epoch 2/150\n",
      " - 174s - loss: 0.0248 - acc: 0.3850 - val_loss: 0.0204 - val_acc: 0.5019\n",
      "Epoch 3/150\n",
      " - 197s - loss: 0.0192 - acc: 0.5377 - val_loss: 0.0159 - val_acc: 0.6328\n",
      "Epoch 4/150\n",
      " - 157s - loss: 0.0159 - acc: 0.6355 - val_loss: 0.0131 - val_acc: 0.7167\n",
      "Epoch 5/150\n",
      " - 151s - loss: 0.0135 - acc: 0.7073 - val_loss: 0.0109 - val_acc: 0.7883\n",
      "Epoch 6/150\n",
      " - 151s - loss: 0.0117 - acc: 0.7657 - val_loss: 0.0092 - val_acc: 0.8363\n",
      "Epoch 7/150\n",
      " - 150s - loss: 0.0103 - acc: 0.8063 - val_loss: 0.0078 - val_acc: 0.8655\n",
      "Epoch 8/150\n",
      " - 150s - loss: 0.0091 - acc: 0.8336 - val_loss: 0.0069 - val_acc: 0.8872\n",
      "Epoch 9/150\n",
      " - 170s - loss: 0.0082 - acc: 0.8541 - val_loss: 0.0061 - val_acc: 0.9007\n",
      "Epoch 10/150\n",
      " - 204s - loss: 0.0075 - acc: 0.8724 - val_loss: 0.0055 - val_acc: 0.9139\n",
      "Epoch 11/150\n",
      " - 197s - loss: 0.0069 - acc: 0.8848 - val_loss: 0.0050 - val_acc: 0.9221\n",
      "Epoch 12/150\n",
      " - 196s - loss: 0.0064 - acc: 0.8952 - val_loss: 0.0046 - val_acc: 0.9291\n",
      "Epoch 13/150\n",
      " - 196s - loss: 0.0060 - acc: 0.9031 - val_loss: 0.0042 - val_acc: 0.9366\n",
      "Epoch 14/150\n",
      " - 190s - loss: 0.0056 - acc: 0.9121 - val_loss: 0.0039 - val_acc: 0.9417\n",
      "Epoch 15/150\n",
      " - 194s - loss: 0.0053 - acc: 0.9166 - val_loss: 0.0037 - val_acc: 0.9448\n",
      "Epoch 16/150\n",
      " - 188s - loss: 0.0050 - acc: 0.9243 - val_loss: 0.0035 - val_acc: 0.9472\n",
      "Epoch 17/150\n",
      " - 173s - loss: 0.0048 - acc: 0.9280 - val_loss: 0.0033 - val_acc: 0.9499\n",
      "Epoch 18/150\n",
      " - 172s - loss: 0.0046 - acc: 0.9312 - val_loss: 0.0031 - val_acc: 0.9523\n",
      "Epoch 19/150\n",
      " - 172s - loss: 0.0044 - acc: 0.9356 - val_loss: 0.0030 - val_acc: 0.9552\n",
      "Epoch 20/150\n",
      " - 175s - loss: 0.0042 - acc: 0.9394 - val_loss: 0.0029 - val_acc: 0.9588\n",
      "Epoch 21/150\n",
      " - 173s - loss: 0.0041 - acc: 0.9437 - val_loss: 0.0027 - val_acc: 0.9609\n",
      "Epoch 22/150\n",
      " - 172s - loss: 0.0039 - acc: 0.9451 - val_loss: 0.0026 - val_acc: 0.9626\n",
      "Epoch 23/150\n",
      " - 172s - loss: 0.0038 - acc: 0.9481 - val_loss: 0.0025 - val_acc: 0.9643\n",
      "Epoch 24/150\n",
      " - 171s - loss: 0.0037 - acc: 0.9501 - val_loss: 0.0024 - val_acc: 0.9653\n",
      "Epoch 25/150\n",
      " - 172s - loss: 0.0036 - acc: 0.9520 - val_loss: 0.0024 - val_acc: 0.9675\n",
      "Epoch 26/150\n",
      " - 173s - loss: 0.0035 - acc: 0.9523 - val_loss: 0.0023 - val_acc: 0.9691\n",
      "Epoch 27/150\n",
      " - 184s - loss: 0.0034 - acc: 0.9570 - val_loss: 0.0022 - val_acc: 0.9703\n",
      "Epoch 28/150\n",
      " - 188s - loss: 0.0033 - acc: 0.9584 - val_loss: 0.0021 - val_acc: 0.9720\n",
      "Epoch 29/150\n",
      " - 188s - loss: 0.0032 - acc: 0.9598 - val_loss: 0.0021 - val_acc: 0.9737\n",
      "Epoch 30/150\n",
      " - 185s - loss: 0.0031 - acc: 0.9607 - val_loss: 0.0020 - val_acc: 0.9742\n",
      "Epoch 31/150\n",
      " - 192s - loss: 0.0031 - acc: 0.9615 - val_loss: 0.0020 - val_acc: 0.9754\n",
      "Epoch 32/150\n",
      " - 186s - loss: 0.0030 - acc: 0.9639 - val_loss: 0.0019 - val_acc: 0.9752\n",
      "Epoch 33/150\n",
      " - 181s - loss: 0.0029 - acc: 0.9637 - val_loss: 0.0019 - val_acc: 0.9764\n",
      "Epoch 34/150\n",
      " - 190s - loss: 0.0029 - acc: 0.9643 - val_loss: 0.0019 - val_acc: 0.9761\n",
      "Epoch 35/150\n",
      " - 189s - loss: 0.0028 - acc: 0.9659 - val_loss: 0.0018 - val_acc: 0.9776\n",
      "Epoch 36/150\n",
      " - 190s - loss: 0.0028 - acc: 0.9670 - val_loss: 0.0018 - val_acc: 0.9776\n",
      "Epoch 37/150\n",
      " - 187s - loss: 0.0027 - acc: 0.9668 - val_loss: 0.0017 - val_acc: 0.9785\n",
      "Epoch 38/150\n",
      " - 186s - loss: 0.0027 - acc: 0.9670 - val_loss: 0.0017 - val_acc: 0.9785\n",
      "Epoch 39/150\n",
      " - 187s - loss: 0.0026 - acc: 0.9689 - val_loss: 0.0017 - val_acc: 0.9790\n",
      "Epoch 40/150\n",
      " - 184s - loss: 0.0026 - acc: 0.9700 - val_loss: 0.0016 - val_acc: 0.9790\n",
      "Epoch 41/150\n",
      " - 177s - loss: 0.0025 - acc: 0.9699 - val_loss: 0.0016 - val_acc: 0.9802\n",
      "Epoch 42/150\n",
      " - 171s - loss: 0.0025 - acc: 0.9717 - val_loss: 0.0016 - val_acc: 0.9805\n",
      "Epoch 43/150\n",
      " - 182s - loss: 0.0025 - acc: 0.9702 - val_loss: 0.0016 - val_acc: 0.9802\n",
      "Epoch 44/150\n",
      " - 186s - loss: 0.0024 - acc: 0.9714 - val_loss: 0.0015 - val_acc: 0.9814\n",
      "Epoch 45/150\n",
      " - 190s - loss: 0.0024 - acc: 0.9717 - val_loss: 0.0015 - val_acc: 0.9812\n",
      "Epoch 46/150\n",
      " - 187s - loss: 0.0024 - acc: 0.9734 - val_loss: 0.0015 - val_acc: 0.9817\n",
      "Epoch 47/150\n",
      " - 190s - loss: 0.0023 - acc: 0.9724 - val_loss: 0.0015 - val_acc: 0.9817\n",
      "Epoch 48/150\n",
      " - 184s - loss: 0.0023 - acc: 0.9725 - val_loss: 0.0015 - val_acc: 0.9814\n",
      "Epoch 49/150\n",
      " - 188s - loss: 0.0023 - acc: 0.9733 - val_loss: 0.0014 - val_acc: 0.9814\n",
      "Epoch 50/150\n",
      " - 183s - loss: 0.0022 - acc: 0.9734 - val_loss: 0.0014 - val_acc: 0.9822\n",
      "Epoch 51/150\n",
      " - 183s - loss: 0.0022 - acc: 0.9733 - val_loss: 0.0014 - val_acc: 0.9824\n",
      "Epoch 52/150\n",
      " - 183s - loss: 0.0022 - acc: 0.9746 - val_loss: 0.0014 - val_acc: 0.9819\n",
      "Epoch 53/150\n",
      " - 182s - loss: 0.0022 - acc: 0.9755 - val_loss: 0.0014 - val_acc: 0.9822\n",
      "Epoch 54/150\n",
      " - 184s - loss: 0.0021 - acc: 0.9762 - val_loss: 0.0014 - val_acc: 0.9826\n",
      "Epoch 55/150\n",
      " - 185s - loss: 0.0021 - acc: 0.9754 - val_loss: 0.0013 - val_acc: 0.9822\n",
      "Epoch 56/150\n",
      " - 187s - loss: 0.0021 - acc: 0.9759 - val_loss: 0.0013 - val_acc: 0.9826\n",
      "Epoch 57/150\n",
      " - 188s - loss: 0.0021 - acc: 0.9765 - val_loss: 0.0013 - val_acc: 0.9834\n",
      "Epoch 58/150\n",
      " - 183s - loss: 0.0021 - acc: 0.9762 - val_loss: 0.0013 - val_acc: 0.9829\n",
      "Epoch 59/150\n",
      " - 173s - loss: 0.0020 - acc: 0.9764 - val_loss: 0.0013 - val_acc: 0.9834\n",
      "Epoch 60/150\n",
      " - 184s - loss: 0.0020 - acc: 0.9779 - val_loss: 0.0013 - val_acc: 0.9831\n",
      "Epoch 61/150\n",
      " - 189s - loss: 0.0020 - acc: 0.9768 - val_loss: 0.0013 - val_acc: 0.9836\n",
      "Epoch 62/150\n",
      " - 187s - loss: 0.0020 - acc: 0.9777 - val_loss: 0.0012 - val_acc: 0.9836\n",
      "Epoch 63/150\n",
      " - 185s - loss: 0.0020 - acc: 0.9778 - val_loss: 0.0012 - val_acc: 0.9834\n",
      "Epoch 64/150\n",
      " - 177s - loss: 0.0019 - acc: 0.9779 - val_loss: 0.0012 - val_acc: 0.9836\n",
      "Epoch 65/150\n",
      " - 177s - loss: 0.0019 - acc: 0.9779 - val_loss: 0.0012 - val_acc: 0.9841\n",
      "Epoch 66/150\n",
      " - 176s - loss: 0.0019 - acc: 0.9795 - val_loss: 0.0012 - val_acc: 0.9836\n",
      "Epoch 67/150\n",
      " - 169s - loss: 0.0019 - acc: 0.9791 - val_loss: 0.0012 - val_acc: 0.9843\n",
      "Epoch 68/150\n",
      " - 185s - loss: 0.0019 - acc: 0.9792 - val_loss: 0.0012 - val_acc: 0.9841\n",
      "Epoch 69/150\n",
      " - 189s - loss: 0.0018 - acc: 0.9797 - val_loss: 0.0012 - val_acc: 0.9841\n",
      "Epoch 70/150\n",
      " - 191s - loss: 0.0018 - acc: 0.9801 - val_loss: 0.0012 - val_acc: 0.9841\n",
      "Epoch 71/150\n",
      " - 181s - loss: 0.0018 - acc: 0.9789 - val_loss: 0.0011 - val_acc: 0.9846\n",
      "Epoch 72/150\n",
      " - 188s - loss: 0.0018 - acc: 0.9806 - val_loss: 0.0011 - val_acc: 0.9841\n",
      "Epoch 73/150\n",
      " - 188s - loss: 0.0018 - acc: 0.9793 - val_loss: 0.0011 - val_acc: 0.9841\n",
      "Epoch 74/150\n",
      " - 179s - loss: 0.0018 - acc: 0.9797 - val_loss: 0.0011 - val_acc: 0.9851\n",
      "Epoch 75/150\n",
      " - 185s - loss: 0.0018 - acc: 0.9808 - val_loss: 0.0011 - val_acc: 0.9851\n",
      "Epoch 76/150\n",
      " - 185s - loss: 0.0018 - acc: 0.9812 - val_loss: 0.0011 - val_acc: 0.9846\n",
      "Epoch 77/150\n",
      " - 182s - loss: 0.0017 - acc: 0.9818 - val_loss: 0.0011 - val_acc: 0.9846\n",
      "Epoch 78/150\n",
      " - 180s - loss: 0.0017 - acc: 0.9805 - val_loss: 0.0011 - val_acc: 0.9846\n",
      "Epoch 79/150\n",
      " - 189s - loss: 0.0018 - acc: 0.9811 - val_loss: 0.0011 - val_acc: 0.9848\n",
      "Epoch 80/150\n",
      " - 192s - loss: 0.0017 - acc: 0.9814 - val_loss: 0.0011 - val_acc: 0.9851\n",
      "Epoch 81/150\n",
      " - 194s - loss: 0.0017 - acc: 0.9811 - val_loss: 0.0011 - val_acc: 0.9851\n",
      "Epoch 82/150\n",
      " - 180s - loss: 0.0017 - acc: 0.9818 - val_loss: 0.0011 - val_acc: 0.9858\n",
      "Epoch 83/150\n",
      " - 176s - loss: 0.0017 - acc: 0.9815 - val_loss: 0.0011 - val_acc: 0.9855\n",
      "Epoch 84/150\n",
      " - 178s - loss: 0.0017 - acc: 0.9812 - val_loss: 0.0011 - val_acc: 0.9855\n",
      "Epoch 85/150\n",
      " - 176s - loss: 0.0017 - acc: 0.9818 - val_loss: 0.0010 - val_acc: 0.9860\n",
      "Epoch 86/150\n",
      " - 188s - loss: 0.0017 - acc: 0.9822 - val_loss: 0.0010 - val_acc: 0.9858\n",
      "Epoch 87/150\n",
      " - 187s - loss: 0.0016 - acc: 0.9830 - val_loss: 0.0010 - val_acc: 0.9858\n",
      "Epoch 88/150\n",
      " - 176s - loss: 0.0016 - acc: 0.9822 - val_loss: 0.0010 - val_acc: 0.9855\n",
      "Epoch 89/150\n",
      " - 188s - loss: 0.0016 - acc: 0.9828 - val_loss: 0.0010 - val_acc: 0.9863\n",
      "Epoch 90/150\n",
      " - 178s - loss: 0.0016 - acc: 0.9823 - val_loss: 0.0010 - val_acc: 0.9860\n",
      "Epoch 91/150\n",
      " - 173s - loss: 0.0016 - acc: 0.9825 - val_loss: 0.0010 - val_acc: 0.9855\n",
      "Epoch 92/150\n",
      " - 176s - loss: 0.0016 - acc: 0.9839 - val_loss: 0.0010 - val_acc: 0.9860\n"
     ]
    },
    {
     "name": "stdout",
     "output_type": "stream",
     "text": [
      "Epoch 93/150\n",
      " - 178s - loss: 0.0016 - acc: 0.9831 - val_loss: 9.9749e-04 - val_acc: 0.9863\n",
      "Epoch 94/150\n",
      " - 183s - loss: 0.0016 - acc: 0.9831 - val_loss: 9.9208e-04 - val_acc: 0.9863\n",
      "Epoch 95/150\n",
      " - 183s - loss: 0.0016 - acc: 0.9828 - val_loss: 9.8555e-04 - val_acc: 0.9858\n",
      "Epoch 96/150\n",
      " - 177s - loss: 0.0016 - acc: 0.9834 - val_loss: 9.8257e-04 - val_acc: 0.9863\n",
      "Epoch 97/150\n",
      " - 178s - loss: 0.0016 - acc: 0.9832 - val_loss: 9.8136e-04 - val_acc: 0.9860\n",
      "Epoch 98/150\n",
      " - 174s - loss: 0.0015 - acc: 0.9840 - val_loss: 9.7986e-04 - val_acc: 0.9863\n",
      "Epoch 99/150\n",
      " - 196s - loss: 0.0015 - acc: 0.9832 - val_loss: 9.7597e-04 - val_acc: 0.9865\n",
      "Epoch 100/150\n",
      " - 181s - loss: 0.0016 - acc: 0.9825 - val_loss: 9.6508e-04 - val_acc: 0.9860\n",
      "Epoch 101/150\n",
      " - 176s - loss: 0.0015 - acc: 0.9837 - val_loss: 9.6652e-04 - val_acc: 0.9867\n",
      "Epoch 102/150\n",
      " - 189s - loss: 0.0015 - acc: 0.9835 - val_loss: 9.6134e-04 - val_acc: 0.9865\n",
      "Epoch 103/150\n",
      " - 181s - loss: 0.0015 - acc: 0.9842 - val_loss: 9.4920e-04 - val_acc: 0.9867\n",
      "Epoch 104/150\n",
      " - 176s - loss: 0.0015 - acc: 0.9839 - val_loss: 9.4326e-04 - val_acc: 0.9867\n",
      "Epoch 105/150\n",
      " - 189s - loss: 0.0015 - acc: 0.9837 - val_loss: 9.4466e-04 - val_acc: 0.9867\n",
      "Epoch 106/150\n",
      " - 188s - loss: 0.0015 - acc: 0.9845 - val_loss: 9.3914e-04 - val_acc: 0.9867\n",
      "Epoch 107/150\n",
      " - 183s - loss: 0.0015 - acc: 0.9838 - val_loss: 9.4194e-04 - val_acc: 0.9867\n",
      "Epoch 108/150\n",
      " - 181s - loss: 0.0015 - acc: 0.9840 - val_loss: 9.2778e-04 - val_acc: 0.9867\n",
      "Epoch 109/150\n",
      " - 180s - loss: 0.0015 - acc: 0.9849 - val_loss: 9.3107e-04 - val_acc: 0.9867\n",
      "Epoch 110/150\n",
      " - 187s - loss: 0.0015 - acc: 0.9842 - val_loss: 9.3272e-04 - val_acc: 0.9867\n",
      "Epoch 111/150\n",
      " - 189s - loss: 0.0015 - acc: 0.9844 - val_loss: 9.2293e-04 - val_acc: 0.9865\n",
      "Epoch 112/150\n",
      " - 187s - loss: 0.0015 - acc: 0.9850 - val_loss: 9.1210e-04 - val_acc: 0.9867\n",
      "Epoch 113/150\n",
      " - 179s - loss: 0.0015 - acc: 0.9842 - val_loss: 9.1455e-04 - val_acc: 0.9865\n",
      "Epoch 114/150\n",
      " - 178s - loss: 0.0015 - acc: 0.9846 - val_loss: 9.0758e-04 - val_acc: 0.9867\n",
      "Epoch 115/150\n",
      " - 184s - loss: 0.0014 - acc: 0.9853 - val_loss: 9.0513e-04 - val_acc: 0.9867\n",
      "Epoch 116/150\n",
      " - 188s - loss: 0.0014 - acc: 0.9841 - val_loss: 9.0020e-04 - val_acc: 0.9867\n",
      "Epoch 117/150\n",
      " - 187s - loss: 0.0014 - acc: 0.9853 - val_loss: 9.0806e-04 - val_acc: 0.9863\n",
      "Epoch 118/150\n",
      " - 190s - loss: 0.0014 - acc: 0.9842 - val_loss: 8.9122e-04 - val_acc: 0.9867\n",
      "Epoch 119/150\n",
      " - 190s - loss: 0.0014 - acc: 0.9847 - val_loss: 9.0099e-04 - val_acc: 0.9867\n",
      "Epoch 120/150\n",
      " - 189s - loss: 0.0014 - acc: 0.9843 - val_loss: 8.9076e-04 - val_acc: 0.9867\n",
      "Epoch 121/150\n",
      " - 186s - loss: 0.0014 - acc: 0.9848 - val_loss: 8.8465e-04 - val_acc: 0.9867\n",
      "Epoch 122/150\n",
      " - 186s - loss: 0.0014 - acc: 0.9855 - val_loss: 8.8246e-04 - val_acc: 0.9870\n",
      "Epoch 123/150\n",
      " - 193s - loss: 0.0014 - acc: 0.9847 - val_loss: 8.8026e-04 - val_acc: 0.9865\n",
      "Epoch 124/150\n",
      " - 189s - loss: 0.0014 - acc: 0.9848 - val_loss: 8.7713e-04 - val_acc: 0.9870\n",
      "Epoch 125/150\n",
      " - 180s - loss: 0.0014 - acc: 0.9859 - val_loss: 8.7024e-04 - val_acc: 0.9867\n",
      "Epoch 126/150\n",
      " - 179s - loss: 0.0014 - acc: 0.9853 - val_loss: 8.7321e-04 - val_acc: 0.9867\n",
      "Epoch 127/150\n",
      " - 171s - loss: 0.0014 - acc: 0.9844 - val_loss: 8.7227e-04 - val_acc: 0.9870\n",
      "Epoch 128/150\n",
      " - 179s - loss: 0.0014 - acc: 0.9857 - val_loss: 8.6584e-04 - val_acc: 0.9867\n",
      "Epoch 129/150\n",
      " - 177s - loss: 0.0014 - acc: 0.9859 - val_loss: 8.6173e-04 - val_acc: 0.9867\n",
      "Epoch 130/150\n",
      " - 179s - loss: 0.0014 - acc: 0.9855 - val_loss: 8.6295e-04 - val_acc: 0.9867\n",
      "Epoch 131/150\n",
      " - 171s - loss: 0.0014 - acc: 0.9855 - val_loss: 8.5787e-04 - val_acc: 0.9870\n",
      "Epoch 132/150\n",
      " - 189s - loss: 0.0014 - acc: 0.9857 - val_loss: 8.5515e-04 - val_acc: 0.9870\n",
      "Epoch 133/150\n",
      " - 185s - loss: 0.0014 - acc: 0.9848 - val_loss: 8.5274e-04 - val_acc: 0.9872\n",
      "Epoch 134/150\n",
      " - 172s - loss: 0.0013 - acc: 0.9863 - val_loss: 8.4719e-04 - val_acc: 0.9872\n",
      "Epoch 135/150\n",
      " - 184s - loss: 0.0013 - acc: 0.9865 - val_loss: 8.4107e-04 - val_acc: 0.9872\n",
      "Epoch 136/150\n",
      " - 184s - loss: 0.0013 - acc: 0.9860 - val_loss: 8.4808e-04 - val_acc: 0.9870\n",
      "Epoch 137/150\n",
      " - 186s - loss: 0.0013 - acc: 0.9863 - val_loss: 8.4086e-04 - val_acc: 0.9870\n",
      "Epoch 138/150\n",
      " - 189s - loss: 0.0014 - acc: 0.9854 - val_loss: 8.4104e-04 - val_acc: 0.9870\n",
      "Epoch 139/150\n",
      " - 180s - loss: 0.0013 - acc: 0.9863 - val_loss: 8.4012e-04 - val_acc: 0.9870\n",
      "Epoch 140/150\n",
      " - 182s - loss: 0.0013 - acc: 0.9868 - val_loss: 8.3230e-04 - val_acc: 0.9872\n",
      "Epoch 141/150\n",
      " - 186s - loss: 0.0013 - acc: 0.9859 - val_loss: 8.3776e-04 - val_acc: 0.9867\n",
      "Epoch 142/150\n",
      " - 180s - loss: 0.0013 - acc: 0.9865 - val_loss: 8.3349e-04 - val_acc: 0.9867\n",
      "Epoch 143/150\n",
      " - 172s - loss: 0.0013 - acc: 0.9861 - val_loss: 8.2776e-04 - val_acc: 0.9870\n",
      "Epoch 144/150\n",
      " - 172s - loss: 0.0013 - acc: 0.9865 - val_loss: 8.2894e-04 - val_acc: 0.9870\n",
      "Epoch 145/150\n",
      " - 187s - loss: 0.0013 - acc: 0.9867 - val_loss: 8.2461e-04 - val_acc: 0.9872\n",
      "Epoch 146/150\n",
      " - 189s - loss: 0.0013 - acc: 0.9869 - val_loss: 8.2027e-04 - val_acc: 0.9870\n",
      "Epoch 147/150\n",
      " - 188s - loss: 0.0013 - acc: 0.9863 - val_loss: 8.1630e-04 - val_acc: 0.9872\n",
      "Epoch 148/150\n",
      " - 193s - loss: 0.0013 - acc: 0.9868 - val_loss: 8.2124e-04 - val_acc: 0.9872\n",
      "Epoch 149/150\n",
      " - 192s - loss: 0.0013 - acc: 0.9866 - val_loss: 8.1255e-04 - val_acc: 0.9872\n",
      "Epoch 150/150\n",
      " - 188s - loss: 0.0013 - acc: 0.9868 - val_loss: 8.1161e-04 - val_acc: 0.9870\n"
     ]
    },
    {
     "data": {
      "text/plain": [
       "<keras.callbacks.History at 0x1c4d4e26d30>"
      ]
     },
     "execution_count": 40,
     "metadata": {},
     "output_type": "execute_result"
    }
   ],
   "source": [
    "model.fit(images_train,labels_train, nb_epoch=150, verbose=2 , validation_split=0.1)"
   ]
  },
  {
   "cell_type": "code",
   "execution_count": 41,
   "metadata": {},
   "outputs": [
    {
     "name": "stdout",
     "output_type": "stream",
     "text": [
      "10368/10368 [==============================] - 18s 2ms/step\n",
      "\n",
      "acc: 99.05%\n"
     ]
    }
   ],
   "source": [
    "scores = model.evaluate(images_test, labels_test)\n",
    "print(\"\\n%s: %.2f%%\" % (model.metrics_names[1], scores[1]*100)) "
   ]
  },
  {
   "cell_type": "code",
   "execution_count": 42,
   "metadata": {},
   "outputs": [
    {
     "name": "stdout",
     "output_type": "stream",
     "text": [
      "Saved model to disk\n"
     ]
    }
   ],
   "source": [
    "# serialize model to JSON\n",
    "model_json = model.to_json()\n",
    "with open(\"final_model.json\", \"w\") as json_file:\n",
    "    json_file.write(model_json)\n",
    "# serialize weights to HDF5\n",
    "model.save_weights(\"final_model.h5\")\n",
    "print(\"Saved model to disk\")"
   ]
  },
  {
   "cell_type": "code",
   "execution_count": 16,
   "metadata": {},
   "outputs": [
    {
     "ename": "NameError",
     "evalue": "name 'model' is not defined",
     "output_type": "error",
     "traceback": [
      "\u001b[1;31m---------------------------------------------------------------------------\u001b[0m",
      "\u001b[1;31mNameError\u001b[0m                                 Traceback (most recent call last)",
      "\u001b[1;32m<ipython-input-16-b653225b7fab>\u001b[0m in \u001b[0;36m<module>\u001b[1;34m()\u001b[0m\n\u001b[1;32m----> 1\u001b[1;33m \u001b[0mpredict\u001b[0m\u001b[1;33m=\u001b[0m\u001b[0mmodel\u001b[0m\u001b[1;33m.\u001b[0m\u001b[0mpredict\u001b[0m\u001b[1;33m(\u001b[0m\u001b[0mimages_test\u001b[0m\u001b[1;33m)\u001b[0m\u001b[1;33m\u001b[0m\u001b[0m\n\u001b[0m",
      "\u001b[1;31mNameError\u001b[0m: name 'model' is not defined"
     ]
    }
   ],
   "source": [
    "predict=model.predict(images_test)"
   ]
  },
  {
   "cell_type": "code",
   "execution_count": 1,
   "metadata": {},
   "outputs": [
    {
     "ename": "NameError",
     "evalue": "name 'predict' is not defined",
     "output_type": "error",
     "traceback": [
      "\u001b[1;31m---------------------------------------------------------------------------\u001b[0m",
      "\u001b[1;31mNameError\u001b[0m                                 Traceback (most recent call last)",
      "\u001b[1;32m<ipython-input-1-8d16cdf8d094>\u001b[0m in \u001b[0;36m<module>\u001b[1;34m()\u001b[0m\n\u001b[1;32m----> 1\u001b[1;33m \u001b[0mprint\u001b[0m\u001b[1;33m(\u001b[0m\u001b[0mpredict\u001b[0m\u001b[1;33m[\u001b[0m\u001b[1;36m10\u001b[0m\u001b[1;33m]\u001b[0m\u001b[1;33m)\u001b[0m\u001b[1;33m\u001b[0m\u001b[0m\n\u001b[0m\u001b[0;32m      2\u001b[0m \u001b[0mprint\u001b[0m\u001b[1;33m(\u001b[0m\u001b[0mlabels_test\u001b[0m\u001b[1;33m[\u001b[0m\u001b[1;36m10\u001b[0m\u001b[1;33m]\u001b[0m\u001b[1;33m)\u001b[0m\u001b[1;33m\u001b[0m\u001b[0m\n",
      "\u001b[1;31mNameError\u001b[0m: name 'predict' is not defined"
     ]
    }
   ],
   "source": [
    "print(predict[10])\n",
    "print(labels_test[10])"
   ]
  },
  {
   "cell_type": "code",
   "execution_count": 45,
   "metadata": {},
   "outputs": [],
   "source": [
    "from sklearn.metrics import roc_curve, auc\n",
    "%matplotlib inline"
   ]
  },
  {
   "cell_type": "code",
   "execution_count": 46,
   "metadata": {},
   "outputs": [],
   "source": [
    "def generate_results(y_test, y_score):\n",
    "    fpr, tpr, _ = roc_curve(y_test, y_score)\n",
    "    roc_auc = auc(fpr, tpr)\n",
    "    plt.figure()\n",
    "    plt.plot(fpr, tpr, 'r',label='ROC curve (area = %0.2f)' % roc_auc)\n",
    "    plt.plot([0, 1], [0, 1], 'k--')\n",
    "    plt.xlim([0.0, 1.05])\n",
    "    plt.ylim([0.0, 1.05])\n",
    "    plt.xlabel('False Positive Rate')\n",
    "    plt.ylabel('True Positive Rate')\n",
    "    plt.title('Receiver operating characteristic curve')\n",
    "    plt.show()"
   ]
  },
  {
   "cell_type": "code",
   "execution_count": 14,
   "metadata": {},
   "outputs": [
    {
     "name": "stdout",
     "output_type": "stream",
     "text": [
      "Loaded model from disk\n",
      "Model compiled\n"
     ]
    }
   ],
   "source": [
    "from keras.models import model_from_json\n",
    "# load json and create model\n",
    "json_file = open('final_model.json', 'r')\n",
    "loaded_model_json = json_file.read()\n",
    "json_file.close()\n",
    "loaded_model = model_from_json(loaded_model_json)\n",
    "# load weights into new model\n",
    "loaded_model.load_weights(\"final_model.h5\")\n",
    "print(\"Loaded model from disk\")\n",
    "\n",
    "#compiling model\n",
    "learning_rate=0.001\n",
    "# Compile model\n",
    "momentum = 0.8\n",
    "epochs = 50\n",
    "#keras.optimizers\n",
    "decay_rate = learning_rate / epochs\n",
    "sgd = Adagrad(lr=learning_rate,  decay=decay_rate)\n",
    "loaded_model.compile(loss='mean_squared_error', optimizer=sgd, metrics=['accuracy'])\n",
    "print(\"Model compiled\")"
   ]
  },
  {
   "cell_type": "code",
   "execution_count": 15,
   "metadata": {},
   "outputs": [
    {
     "name": "stdout",
     "output_type": "stream",
     "text": [
      "10368/10368 [==============================] - 22s 2ms/step\n",
      "\n",
      "acc: 99.05%\n"
     ]
    }
   ],
   "source": [
    "scores = loaded_model.evaluate(images_test, labels_test)\n",
    "print(\"\\n%s: %.2f%%\" % (loaded_model.metrics_names[1], scores[1]*100))"
   ]
  },
  {
   "cell_type": "code",
   "execution_count": null,
   "metadata": {
    "collapsed": true
   },
   "outputs": [],
   "source": []
  }
 ],
 "metadata": {
  "kernelspec": {
   "display_name": "Python 3",
   "language": "python",
   "name": "python3"
  },
  "language_info": {
   "codemirror_mode": {
    "name": "ipython",
    "version": 3
   },
   "file_extension": ".py",
   "mimetype": "text/x-python",
   "name": "python",
   "nbconvert_exporter": "python",
   "pygments_lexer": "ipython3",
   "version": "3.6.5"
  }
 },
 "nbformat": 4,
 "nbformat_minor": 2
}
